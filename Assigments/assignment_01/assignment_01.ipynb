{
 "cells": [
  {
   "attachments": {},
   "cell_type": "markdown",
   "metadata": {},
   "source": [
    "# TPM034A Machine Learning for socio-technical systems \n",
    "## `Assignment 01: Discover, explore and visualise data`\n",
    "\n",
    "**Delft University of Technology**<br>\n",
    "**Q2 2023**<br>\n",
    "**Instructor:** Sander van Cranenburgh <br>\n",
    "**TAs:**  Francisco Garrido Valenzuela & Lucas Spierenburg <br>"
   ]
  },
  {
   "attachments": {},
   "cell_type": "markdown",
   "metadata": {},
   "source": [
    "### `Instructions`\n",
    "\n",
    "**Assignments aim to:**<br>\n",
    "* Examine your understanding of the key concepts and techniques.\n",
    "* Examine your applied ML skills.\n",
    "\n",
    "**Assignments:**<br>\n",
    "* Are graded and must be submitted (see the submission instruction below). "
   ]
  },
  {
   "cell_type": "markdown",
   "metadata": {},
   "source": [
    "### `Workspace set-up`\n",
    "\n",
    "**Option 1: Local environment**<br>\n",
    "Uncomment the following cell if you are running this notebook on your local environment. This will install all dependencies on your Python version."
   ]
  },
  {
   "cell_type": "code",
   "execution_count": null,
   "metadata": {},
   "outputs": [],
   "source": [
    "#!pip install -r requirements.txt"
   ]
  },
  {
   "cell_type": "markdown",
   "metadata": {},
   "source": [
    "**Option 2: Google Colab**<br>\n",
    "Uncomment the following cells code lines if you are running this notebook on Colab"
   ]
  },
  {
   "cell_type": "code",
   "execution_count": null,
   "metadata": {},
   "outputs": [],
   "source": [
    "#!git clone https://github.com/TPM034A/Q2_2023\n",
    "#!pip install -r Q2_2023/requirements_colab.txt\n",
    "#!mv \"/content/Q2_2023/Assignments/assignment_01/data\" /content/data"
   ]
  },
  {
   "attachments": {},
   "cell_type": "markdown",
   "metadata": {},
   "source": [
    "## `Application: Liveability and affordable housing in Amsterdam` <br>\n",
    "\n",
    "### **Introduction**\n",
    "There is a widespread sense that affordable housing for the middle incomes households is under pressure. Especially for new entrants to the housing markets (i.e. those who do not yet own a house), affordable houses to buy in pleasant neighboorhoods are in short supply. Entrants to the housing market typically are people in their 20s and 30s.<br>\n",
    "\n",
    "The municipality of Amsterdam would like to tackle this issue. (see https://openresearch.amsterdam/en/page/77950/housing-crisis for articles on the subject). However, at present, the municipality of Amsterdam lacks insights on the future evolution of real-estate prices and liveability in neighborhoods. <br>\n",
    "\n",
    "*Your are asked to assist the municipality of Amsterdam in predicting **where** and **how** real-estate prices and liveability will change in the coming years.*<br>\n",
    "\n",
    "### **Data**\n",
    "\n",
    "You have access to four data sets:\n",
    "1. Real-estate prices in Amsterdam, at a 100x100m square grid level\n",
    "1. Liveability scores in the Netherlands, at a 100x100m square grid level\n",
    "1. Population statistics in Amsterdam, at a 100x100m square grid level\n",
    "1. Geographical boundaries of the 100x100m squares in Amsterdam\n",
    "\n",
    "### **Notes**\n",
    "- In the liveability scores dataset the column *versie* show the different versions of the livability score, we only use the 3rd version. Thus, you may filter this column to keep *Leefbaarometer 3.0*\tonly.\n",
    "- You may assume that the population statistics and geospatial data have not substantially changed across the years 2014 and 2020. Thus, you may assume both apply to 2014 and 2020.\n",
    "- For population statistics (3rd dataset), [this document](./data/demog_data/metadata.csv) provides a brief explanation of the features.\n",
    "\n",
    "### **Tasks and grading**\n",
    "\n",
    "Your assigment is divided into 3 subtasks: (1) Data preparation, (2) Data exploration and (3) Assess the affordability of 'liveable' neighbourhoods. In total, 10 points can be earned in this assignment. The weight per subtask is shown below. \n",
    "\n",
    "1.  **Data preparation: construct data from multiple data sources.** [2 pnt]\n",
    "    1. Load the four dataset and show a preview of the dataset structure (some DataFrame rows).\n",
    "    1. Prepare two tabular (i.e. non-GIS data) dataframes, one for 2014 and one for 2020, containing the following information for the city of Amsterdam:\n",
    "        - The liveability data for the year of interest, using the 3rd version of the Leefbaarometer\n",
    "        - Demographic data, housing stock data, accessibility to amenities\n",
    "        - Real-estate prices\n",
    "         \n",
    "            **Hints:**\n",
    "            1. *Make sure to filter the data and remove NULL (NaN values) if required*<br>\n",
    "            1. *Each row in the data contains the information of one sq*\n",
    "    1. Add the geospatial (i.e. GIS) data of the squares to your dataframes.\n",
    "1.  **Assess the relative change in real-estate prices and liveability in Amsterdam.** [3 pnt]\n",
    "    1. Explore how the relative change in liveability associates with the relative change in real-estate prices (i.e use the **percentage of change**). Show your results using a scatter plot.\n",
    "    1. Visualize the spatial distribution of the relative change in real-estate price and liveability, using two maps of Amsterdam.\n",
    "    1. What are the spatial trends for the evolution of the real-estate price and the liveability index? Do you observe some relationship between the two variables?\n",
    "1.  **Train a regression model to predict the change in real-estate price and liveability in Amsterdam between 2014 and 2020, using data for 2014** [2 pnt]\n",
    "    1. Train a regression model to predict the change in real-estate price and liveability in Amsterdam between 2014 and 2020, using data on real-estate price, liveability, demographics, housing stock, and accessibility to amenities in 2014.\n",
    "    1. Interpretation of the regression results:\n",
    "        1.  Interpret the relationship between the price in 2014 and the delta in price\n",
    "        1. Interpret the relationship between the price in 2014 and the delta in liveability\n",
    "        1. Compare the model performance of the two regression models. Which metric ($\\Delta$ price or $\\Delta$ liveavility) is easiest to predict given the available data in 2014? \n",
    "1.  **Predict the changes in real-estate price and liveability between 2020 and 2026.** [3 pnt]\n",
    "    1. Apply your trained regression model on the data of 2020 to predict the relative changes in 2026.\n",
    "    1. Visualize the spatial distribution of the relative change in real-estate price and liveability between 2020 and 2026. \n",
    "    1. What is the difference between the predicted evolution between 2020 and 2026 and the observed evolution between 2014 and 2020?\n",
    "    1. Qualitative reflect on machine learning and generalisation. What assumption are you making when predicting future evolution from past evolution? Give an example of risk associated with this approach and elaborate.\n",
    "\n",
    "### **Submission**\n",
    "- The deadline for this assignment is **21 November 2023 23:59**\n",
    "- Use **Python 3.10 or above**\n",
    "- You have to submit your work in zip file with the ipynb (fully executed) in brightspace"
   ]
  },
  {
   "cell_type": "code",
   "execution_count": null,
   "metadata": {},
   "outputs": [],
   "source": [
    "import os\n",
    "from os import getcwd\n",
    "from pathlib import Path\n",
    "\n",
    "import numpy as np\n",
    "import pandas as pd\n",
    "import geopandas as gpd\n",
    "import matplotlib.pyplot as plt\n",
    "import seaborn as sns\n",
    "from branca.element import Figure\n",
    "\n",
    "from sklearn.linear_model import LinearRegression\n",
    "from sklearn.model_selection import train_test_split\n",
    "from sklearn.metrics import mean_squared_error, r2_score\n",
    "\n",
    "pd.set_option('display.max_columns', None)"
   ]
  },
  {
   "attachments": {},
   "cell_type": "markdown",
   "metadata": {},
   "source": [
    "### 1. Data preparation: construct data from multiple data sources [2 pnt]\n",
    "#### 1.1 Load the four dataset and show a preview of the dataset structure (some DataFrame rows)."
   ]
  },
  {
   "cell_type": "code",
   "execution_count": null,
   "metadata": {},
   "outputs": [],
   "source": []
  },
  {
   "attachments": {},
   "cell_type": "markdown",
   "metadata": {},
   "source": [
    "#### 1.2 Prepare two tabular dataframes (for 2014 and 2020) that contains the following information for Amsterdam:\n",
    "- the liveability data for the year of interest, using the 3rd version of the Leefbaarometer\n",
    "- population data \n",
    "- Real-estate prices\n",
    "\n",
    "**Hints:**\n",
    "1. *Make sure to filter the data and remove NULL (NaN values) if required*<br>\n",
    "1. *Each row in the data contains the information of one sq*"
   ]
  },
  {
   "cell_type": "code",
   "execution_count": null,
   "metadata": {},
   "outputs": [],
   "source": []
  },
  {
   "attachments": {},
   "cell_type": "markdown",
   "metadata": {},
   "source": [
    "#### 1.3 Add the geographic component of the square to your data"
   ]
  },
  {
   "cell_type": "code",
   "execution_count": null,
   "metadata": {},
   "outputs": [],
   "source": []
  },
  {
   "attachments": {},
   "cell_type": "markdown",
   "metadata": {},
   "source": [
    "### 2. Assess the relative change in real-estate price and liveability in Amsterdam [3 pnt]\n",
    "\n",
    "#### 2.1 Explore how the relative change in liveability associates with the relative change in real-estate prices (i.e. use **percentages**), using a scatter plot."
   ]
  },
  {
   "cell_type": "code",
   "execution_count": null,
   "metadata": {},
   "outputs": [],
   "source": []
  },
  {
   "cell_type": "markdown",
   "metadata": {},
   "source": [
    "### 2.2 Investigate the spatial distribution of the change in real-estate price and liveability, using two maps of Amsterdam.\n",
    "- Hint: for the maps, we suggest to set the boundaries for the colorscale to the 5th and the 95th percentiles of the change in price and liveability. You can use the map with the boundaries of Amsterdam as a background (`Amsterdam_boundary.gpkg`), which is located at [path](data/spatial_data/Amsterdam_boundary.gpkg)."
   ]
  },
  {
   "cell_type": "code",
   "execution_count": null,
   "metadata": {},
   "outputs": [],
   "source": []
  },
  {
   "cell_type": "markdown",
   "metadata": {},
   "source": [
    "### 2.3 What are the spatial trends for the evolution of the real-estate price and the liveability index? Do you observe some relationship between the two variables?"
   ]
  },
  {
   "cell_type": "markdown",
   "metadata": {},
   "source": [
    "- Real-estate price:\n",
    "   - High increase in Amsterdam Zuid and in Amsterdam Nieuwe-West\n",
    "   - Low increase in old center\n",
    "- Liveability:\n",
    "   - Higher increase in Bos en Lommer (center West), and Noorderpark (North)\n",
    "- There seems to be a weak spatial correlation between the two variables."
   ]
  },
  {
   "cell_type": "markdown",
   "metadata": {},
   "source": [
    "### 3. Predict changes in real-estate prices and liveability [2 pnt]\n",
    "\n",
    "The municipality has more leverage to regulate real-estate prices if it can anticipate where and how prices may rise. You are thus asked to determine where the municipality should deploy measures in order to prevent liveable neighborhoods to become unaffordable.\n",
    "\n",
    "### 3.1 Train a regression model to predict the change in real-estate price and liveability in Amsterdam between 2014 and 2020, using data for 2014\n",
    "\n",
    "- hint: Remember to handle missing data (value=-99997 in this data set).\n",
    "- Print the R2 for the train and the test set"
   ]
  },
  {
   "cell_type": "code",
   "execution_count": null,
   "metadata": {},
   "outputs": [],
   "source": []
  },
  {
   "cell_type": "markdown",
   "metadata": {},
   "source": [
    "#### 3.2 Interpretation\n",
    "3.2.1 Interpret the relationship between the price in 2014 and the delta in price<br> \n",
    "3.2.2 Interpret the relationship between the price in 2014 and the delta in liveability<br>\n",
    "3.2.2 Compare the model performance of the two regression models. Which metric ($\\Delta$ price or $\\Delta$ liveavility) is easiest to predict given the available data in 2014? \n"
   ]
  },
  {
   "cell_type": "markdown",
   "metadata": {},
   "source": [
    "The real-estate prices in cheaper neighborhoods increased more than in already expensive neighborhoods (in percentage terms)."
   ]
  },
  {
   "cell_type": "markdown",
   "metadata": {},
   "source": [
    "### 4. Predict the changes in real-estate price and liveability between 2020 and 2026, using the data of 2020.\n",
    "#### 4.1 Apply the (trained) regression model on the data for 2020 to predict the target variables ($\\Delta$ price or $\\Delta$ liveavility) in 2026."
   ]
  },
  {
   "cell_type": "code",
   "execution_count": null,
   "metadata": {},
   "outputs": [],
   "source": []
  },
  {
   "cell_type": "markdown",
   "metadata": {},
   "source": [
    "#### 4.2 Visualize the spatial distribution of the change in real-estate price and liveability between 2020 and 2026. \n",
    "hint: Use the same colorscales as the previous map."
   ]
  },
  {
   "cell_type": "code",
   "execution_count": null,
   "metadata": {},
   "outputs": [],
   "source": []
  },
  {
   "cell_type": "markdown",
   "metadata": {},
   "source": [
    "#### 4.3 What is the difference between the predicted evolution between 2020 and 2026 and the observed evolution between 2014 and 2020?"
   ]
  },
  {
   "cell_type": "markdown",
   "metadata": {},
   "source": [
    "- Real-estate price:\n",
    "    - Overall, predicted relative increase is lower compared to the increase between 2014 and 2020.\n",
    "    - Increase in the West and in the North.\n",
    "- Liveability:\n",
    "    - Increase in the West and in the North."
   ]
  },
  {
   "cell_type": "code",
   "execution_count": null,
   "metadata": {},
   "outputs": [],
   "source": []
  },
  {
   "attachments": {},
   "cell_type": "markdown",
   "metadata": {},
   "source": [
    "#### 4.4 Qualitative reflection on machine learning and generalisation\n",
    "The assignment involved using a regression model trained on data from 2014 to 2020 to predict the changes in real estate prices and liveability scores between 2020 and 2026. What assumption(s) underlies this approach? Explain a situation in which this assumption could fail."
   ]
  },
  {
   "cell_type": "code",
   "execution_count": null,
   "metadata": {},
   "outputs": [],
   "source": []
  }
 ],
 "metadata": {
  "kernelspec": {
   "display_name": "Python 3.7.13 64-bit ('TPM34A_temp_venv')",
   "language": "python",
   "name": "python3"
  },
  "language_info": {
   "codemirror_mode": {
    "name": "ipython",
    "version": 3
   },
   "file_extension": ".py",
   "mimetype": "text/x-python",
   "name": "python",
   "nbconvert_exporter": "python",
   "pygments_lexer": "ipython3",
   "version": "3.11.5"
  },
  "orig_nbformat": 4,
  "vscode": {
   "interpreter": {
    "hash": "0d01ddbcf096362851c0844791296bcd8e87533438c3541851849070e588ca01"
   }
  }
 },
 "nbformat": 4,
 "nbformat_minor": 2
}
